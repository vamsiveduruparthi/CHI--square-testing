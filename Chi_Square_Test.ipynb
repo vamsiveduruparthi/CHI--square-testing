{
  "nbformat": 4,
  "nbformat_minor": 0,
  "metadata": {
    "colab": {
      "provenance": []
    },
    "kernelspec": {
      "name": "python3",
      "display_name": "Python 3"
    },
    "language_info": {
      "name": "python"
    }
  },
  "cells": [
    {
      "cell_type": "code",
      "execution_count": 1,
      "metadata": {
        "id": "3fXzD3hiUNpO"
      },
      "outputs": [],
      "source": [
        "import numpy as np\n",
        "import scipy.stats as stats\n"
      ]
    },
    {
      "cell_type": "code",
      "source": [
        "observed_data = np.array([\n",
        "    [50,70],\n",
        "    [80,100],\n",
        "    [60,90],\n",
        "    [30,50],\n",
        "    [20,50]\n",
        "])"
      ],
      "metadata": {
        "id": "l0SpYgtDWREx"
      },
      "execution_count": 2,
      "outputs": []
    },
    {
      "cell_type": "code",
      "source": [
        "chi2_stat, p_val, dof, expected = stats.chi2_contingency(observed_data)"
      ],
      "metadata": {
        "id": "LmFaYVl_WzJT"
      },
      "execution_count": 4,
      "outputs": []
    },
    {
      "cell_type": "code",
      "source": [
        "alpha = 0.05\n",
        "critical_value = stats.chi2.ppf(1-alpha, dof)"
      ],
      "metadata": {
        "id": "6dnu9tmPXRyF"
      },
      "execution_count": 5,
      "outputs": []
    },
    {
      "cell_type": "code",
      "source": [
        "print(f\"Chi-Square Statistics: {chi2_stat:.2f}\")\n",
        "print(f\"Critical Value at alpha={alpha}: {critical_value:.2f}\")\n",
        "print(f\"P-value: {p_val:.3f}\")\n",
        "print(f\"Degrees of Freedom: {dof}\")\n",
        "print(\"\\nExpected Frequencies (if there's no association between device type and satisfication):\")\n",
        "print(expected)"
      ],
      "metadata": {
        "colab": {
          "base_uri": "https://localhost:8080/"
        },
        "id": "VLAo4ShxXUzA",
        "outputId": "8737a346-6f84-4cb1-86c7-06a5a6b68735"
      },
      "execution_count": 6,
      "outputs": [
        {
          "output_type": "stream",
          "name": "stdout",
          "text": [
            "Chi-Square Statistics: 5.64\n",
            "Critical Value at alpha=0.05: 9.49\n",
            "P-value: 0.228\n",
            "Degrees of Freedom: 4\n",
            "\n",
            "Expected Frequencies (if there's no association between device type and satisfication):\n",
            "[[ 48.  72.]\n",
            " [ 72. 108.]\n",
            " [ 60.  90.]\n",
            " [ 32.  48.]\n",
            " [ 28.  42.]]\n"
          ]
        }
      ]
    },
    {
      "cell_type": "code",
      "source": [
        "if chi2_stat > critical_value:\n",
        "  print(\"\\nConclusion: We reject the null hypothesis.\")\n",
        "  print(\"There is a siginificant association between the type of device and customer satisfication.\")\n",
        "else:\n",
        "  print(\"\\nConclusion: We fail to reject the null hypothesis.\")\n",
        "  print(\"There is no significant association between the type of device and customer satisfication.\")"
      ],
      "metadata": {
        "colab": {
          "base_uri": "https://localhost:8080/"
        },
        "id": "04b2vTscYhGz",
        "outputId": "8d5080e3-73a7-4901-f5f6-bbccb23ff10c"
      },
      "execution_count": 7,
      "outputs": [
        {
          "output_type": "stream",
          "name": "stdout",
          "text": [
            "\n",
            "Conclusion: We fail to reject the null hypothesis.\n",
            "There is no significant association between the type of device and customer satisfication.\n"
          ]
        }
      ]
    },
    {
      "cell_type": "markdown",
      "source": [
        "**Analysis**\n",
        "\n",
        "1. **Chi-Square Statistic**: The calculated Chi-Square statistic is approximately\n",
        "5.64.\n",
        "\n",
        "2. **Critical Value**: The critical value for 4 degrees of freedom at a significance level of α=0.05 is approximately 9.49.\n",
        "\n",
        "3. **p-value**: The p-value associated with the Chi-Square statistic is approximately 0.228.\n",
        "\n",
        "\n",
        "Since the Chi-Square statistic 5.64 is less than the critical value 9.49,and the p-value 0.228 is greater than 0.05, we do not reject the null hypothesis.\n",
        "\n",
        "\n"
      ],
      "metadata": {
        "id": "feGotB1sZ4KE"
      }
    },
    {
      "cell_type": "markdown",
      "source": [
        "**Conclusion**\n",
        "\n",
        "There is no significant association between the type of smart home device (Smart Thermostats vs. Smart Lights) and customer satisfaction levels."
      ],
      "metadata": {
        "id": "Ka6-4LVMbPF-"
      }
    }
  ]
}