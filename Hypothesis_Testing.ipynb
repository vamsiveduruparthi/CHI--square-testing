{
  "nbformat": 4,
  "nbformat_minor": 0,
  "metadata": {
    "colab": {
      "provenance": []
    },
    "kernelspec": {
      "name": "python3",
      "display_name": "Python 3"
    },
    "language_info": {
      "name": "python"
    }
  },
  "cells": [
    {
      "cell_type": "code",
      "execution_count": 1,
      "metadata": {
        "id": "Cvh68ABucxse"
      },
      "outputs": [],
      "source": [
        "import scipy.stats as stats\n",
        "import math"
      ]
    },
    {
      "cell_type": "code",
      "source": [
        "sample_mean = 3050\n",
        "X_mean = 600\n",
        "sigma = 5 * 25\n",
        "n = 25\n",
        "mu_0 = 1000 + 5 * X_mean\n",
        "t_stat = (sample_mean - mu_0) / (sigma / math.sqrt(n))\n",
        "alpha = 0.05\n",
        "critical_value = stats.norm.ppf(1 - alpha)"
      ],
      "metadata": {
        "id": "PR72qWN0efJL"
      },
      "execution_count": 2,
      "outputs": []
    },
    {
      "cell_type": "code",
      "source": [
        "print(f\"Sample Mean : {sample_mean}\")\n",
        "print(f\"Theoretical Mean : {mu_0}\")\n",
        "print(f\"Standard Deviation : {sigma}\")\n",
        "print(f\"Sample Size : {n}\")\n",
        "print(f\"Test Statistics: {t_stat:.2f}\")\n",
        "print(f\"Critical Value : {critical_value:.2f}\")"
      ],
      "metadata": {
        "colab": {
          "base_uri": "https://localhost:8080/"
        },
        "id": "WzmWd0MvfWyK",
        "outputId": "a3b48583-0b86-4e01-bfeb-bbaf8912cc01"
      },
      "execution_count": 3,
      "outputs": [
        {
          "output_type": "stream",
          "name": "stdout",
          "text": [
            "Sample Mean : 3050\n",
            "Theoretical Mean : 4000\n",
            "Standard Deviation : 125\n",
            "Sample Size : 25\n",
            "Test Statistics: -38.00\n",
            "Critical Value : 1.64\n"
          ]
        }
      ]
    },
    {
      "cell_type": "code",
      "source": [
        "if t_stat > critical_value:\n",
        "    print(\"\\nConclusion: We reject the null hypothesis.\")\n",
        "    print(\"There is strong evidence to support the claim that the weekly operating costs are higher than the model suggests.\")\n",
        "else:\n",
        "    print(\"\\nConclusion: We do not reject the null hypothesis.\")\n",
        "    print(\"There is no strong evidence to support the claim that the weekly operating costs are higher than the model suggests.\")"
      ],
      "metadata": {
        "colab": {
          "base_uri": "https://localhost:8080/"
        },
        "id": "ux44iXtAgTlz",
        "outputId": "46f48e04-412f-4dab-b024-086c3609c287"
      },
      "execution_count": 4,
      "outputs": [
        {
          "output_type": "stream",
          "name": "stdout",
          "text": [
            "\n",
            "Conclusion: We do not reject the null hypothesis.\n",
            "There is no strong evidence to support the claim that the weekly operating costs are higher than the model suggests.\n"
          ]
        }
      ]
    },
    {
      "cell_type": "markdown",
      "source": [
        "**Analysis**\n",
        "\n",
        "1. Test Statistic (t): The calculated test statistic is approximately -38.0.\n",
        "\n",
        "2. Critical Value: The critical value from the standard normal(Z)distribution for a one-tailed test at α=0.05 is approximately 1.645.\n",
        "\n",
        "\n",
        "The calculated test statistic (−38.0) is far less than the critical value (1.645), we do not reject the null hypothesis."
      ],
      "metadata": {
        "id": "Xh28SMtvgbyq"
      }
    },
    {
      "cell_type": "markdown",
      "source": [
        "**Conclusion**\n",
        "\n",
        "There is no strong evidence to support the restaurant owners claim that the weekly operating costs are higher than what the theoretical model suggests. In fact, the observed sample mean weekly cost is significantly lower than the cost predicted by the model."
      ],
      "metadata": {
        "id": "wtEJUfPjhfDV"
      }
    }
  ]
}